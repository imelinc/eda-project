{
 "cells": [
  {
   "cell_type": "markdown",
   "id": "cf30ec97",
   "metadata": {},
   "source": [
    "# Exploratory Data Analysis 1 Project"
   ]
  },
  {
   "cell_type": "markdown",
   "id": "6b73e0ee",
   "metadata": {},
   "source": [
    "### Turning Data Into Insights"
   ]
  },
  {
   "cell_type": "markdown",
   "id": "42cf6e54",
   "metadata": {},
   "source": [
    "This project inspects Netflix's library to expose patterns in content type, genres, countries, and release trends—transforming raw data into meaningful information through exploratory data analysis."
   ]
  },
  {
   "cell_type": "markdown",
   "id": "307db2be",
   "metadata": {},
   "source": [
    "##### This Project Will Cover"
   ]
  },
  {
   "cell_type": "markdown",
   "id": "be76da77",
   "metadata": {},
   "source": [
    "* What genres are most common in movies vs TV shows\n",
    "* How has the addition of new content evolved over time\n",
    "* Which countries dominate certain genres\n",
    "* Patterns in ratings based of the content type\n",
    "* “The global reach of Netflix”\n",
    "* “Netflix through the years”\n",
    "* “Is Netflix family-friendly?”"
   ]
  },
  {
   "cell_type": "markdown",
   "id": "4aacb5fb",
   "metadata": {},
   "source": [
    "This analysis explores the rich landscape of content available on Netflix, one of the world's leading streaming entertainment services. The dataset contains detailed information about movies and TV shows in the Netflix catalog, allowing us to uncover patterns and insights about content distribution, genres, ratings, and more."
   ]
  },
  {
   "cell_type": "markdown",
   "id": "01577d10",
   "metadata": {},
   "source": [
    "##### Dataset Overview\n",
    "> The analysis uses a comprehensive dataset of Netflix movies and TV shows that includes:\n",
    "\n",
    "* Content types (Movies vs. TV Shows)\n",
    "* Titles and descriptions\n",
    "* Release years\n",
    "* Content ratings (TV-MA, PG-13, etc.)\n",
    "* Duration (minutes for movies, seasons for TV shows)\n",
    "* Genres/categories\n",
    "* Cast and director information\n",
    "* Country of origin\n",
    "* Date added to Netflix"
   ]
  },
  {
   "cell_type": "markdown",
   "id": "f8b8abdc",
   "metadata": {},
   "source": [
    "##### Project Objectives\n",
    "*This exploratory data analysis aims to:*\n",
    "\n",
    "1. *Understand content distribution:* Analyze the balance between movies and TV shows, and how this has evolved over time\n",
    "2. *Explore content ratings:* Investigate the distribution of ratings across different genres and content types\n",
    "3. *Analyze genre preferences:* Identify the most common genres and their characteristics\n",
    "4. *Examine regional content strategies:* Explore how content varies by country of origin\n",
    "5. *Investigate temporal patterns:* Analyze when content is added to Netflix and release year trends"
   ]
  },
  {
   "cell_type": "markdown",
   "id": "1f413094",
   "metadata": {},
   "source": [
    "*GitHub:* https://github.com/imelinc"
   ]
  },
  {
   "cell_type": "markdown",
   "id": "739ade5c",
   "metadata": {},
   "source": [
    "#### --- IMPORTING LIBRARIES ---"
   ]
  },
  {
   "cell_type": "code",
   "execution_count": 21,
   "id": "ce4a3507",
   "metadata": {},
   "outputs": [],
   "source": [
    "import pandas as pd\n",
    "import matplotlib.pyplot as plt\n",
    "import seaborn as sns"
   ]
  },
  {
   "cell_type": "markdown",
   "id": "0dd7cc77",
   "metadata": {},
   "source": [
    "#### --- LOAD THE DATASET ---"
   ]
  },
  {
   "cell_type": "code",
   "execution_count": 3,
   "id": "ce066ca2",
   "metadata": {},
   "outputs": [],
   "source": [
    "df = pd.read_csv(\"data/netflix_titles.csv\")"
   ]
  },
  {
   "cell_type": "code",
   "execution_count": 4,
   "id": "a1a46802",
   "metadata": {},
   "outputs": [
    {
     "data": {
      "text/html": [
       "<div>\n",
       "<style scoped>\n",
       "    .dataframe tbody tr th:only-of-type {\n",
       "        vertical-align: middle;\n",
       "    }\n",
       "\n",
       "    .dataframe tbody tr th {\n",
       "        vertical-align: top;\n",
       "    }\n",
       "\n",
       "    .dataframe thead th {\n",
       "        text-align: right;\n",
       "    }\n",
       "</style>\n",
       "<table border=\"1\" class=\"dataframe\">\n",
       "  <thead>\n",
       "    <tr style=\"text-align: right;\">\n",
       "      <th></th>\n",
       "      <th>show_id</th>\n",
       "      <th>type</th>\n",
       "      <th>title</th>\n",
       "      <th>director</th>\n",
       "      <th>cast</th>\n",
       "      <th>country</th>\n",
       "      <th>date_added</th>\n",
       "      <th>release_year</th>\n",
       "      <th>rating</th>\n",
       "      <th>duration</th>\n",
       "      <th>listed_in</th>\n",
       "      <th>description</th>\n",
       "    </tr>\n",
       "  </thead>\n",
       "  <tbody>\n",
       "    <tr>\n",
       "      <th>0</th>\n",
       "      <td>s1</td>\n",
       "      <td>Movie</td>\n",
       "      <td>Dick Johnson Is Dead</td>\n",
       "      <td>Kirsten Johnson</td>\n",
       "      <td>NaN</td>\n",
       "      <td>United States</td>\n",
       "      <td>September 25, 2021</td>\n",
       "      <td>2020</td>\n",
       "      <td>PG-13</td>\n",
       "      <td>90 min</td>\n",
       "      <td>Documentaries</td>\n",
       "      <td>As her father nears the end of his life, filmm...</td>\n",
       "    </tr>\n",
       "    <tr>\n",
       "      <th>1</th>\n",
       "      <td>s2</td>\n",
       "      <td>TV Show</td>\n",
       "      <td>Blood &amp; Water</td>\n",
       "      <td>NaN</td>\n",
       "      <td>Ama Qamata, Khosi Ngema, Gail Mabalane, Thaban...</td>\n",
       "      <td>South Africa</td>\n",
       "      <td>September 24, 2021</td>\n",
       "      <td>2021</td>\n",
       "      <td>TV-MA</td>\n",
       "      <td>2 Seasons</td>\n",
       "      <td>International TV Shows, TV Dramas, TV Mysteries</td>\n",
       "      <td>After crossing paths at a party, a Cape Town t...</td>\n",
       "    </tr>\n",
       "    <tr>\n",
       "      <th>2</th>\n",
       "      <td>s3</td>\n",
       "      <td>TV Show</td>\n",
       "      <td>Ganglands</td>\n",
       "      <td>Julien Leclercq</td>\n",
       "      <td>Sami Bouajila, Tracy Gotoas, Samuel Jouy, Nabi...</td>\n",
       "      <td>NaN</td>\n",
       "      <td>September 24, 2021</td>\n",
       "      <td>2021</td>\n",
       "      <td>TV-MA</td>\n",
       "      <td>1 Season</td>\n",
       "      <td>Crime TV Shows, International TV Shows, TV Act...</td>\n",
       "      <td>To protect his family from a powerful drug lor...</td>\n",
       "    </tr>\n",
       "    <tr>\n",
       "      <th>3</th>\n",
       "      <td>s4</td>\n",
       "      <td>TV Show</td>\n",
       "      <td>Jailbirds New Orleans</td>\n",
       "      <td>NaN</td>\n",
       "      <td>NaN</td>\n",
       "      <td>NaN</td>\n",
       "      <td>September 24, 2021</td>\n",
       "      <td>2021</td>\n",
       "      <td>TV-MA</td>\n",
       "      <td>1 Season</td>\n",
       "      <td>Docuseries, Reality TV</td>\n",
       "      <td>Feuds, flirtations and toilet talk go down amo...</td>\n",
       "    </tr>\n",
       "    <tr>\n",
       "      <th>4</th>\n",
       "      <td>s5</td>\n",
       "      <td>TV Show</td>\n",
       "      <td>Kota Factory</td>\n",
       "      <td>NaN</td>\n",
       "      <td>Mayur More, Jitendra Kumar, Ranjan Raj, Alam K...</td>\n",
       "      <td>India</td>\n",
       "      <td>September 24, 2021</td>\n",
       "      <td>2021</td>\n",
       "      <td>TV-MA</td>\n",
       "      <td>2 Seasons</td>\n",
       "      <td>International TV Shows, Romantic TV Shows, TV ...</td>\n",
       "      <td>In a city of coaching centers known to train I...</td>\n",
       "    </tr>\n",
       "    <tr>\n",
       "      <th>...</th>\n",
       "      <td>...</td>\n",
       "      <td>...</td>\n",
       "      <td>...</td>\n",
       "      <td>...</td>\n",
       "      <td>...</td>\n",
       "      <td>...</td>\n",
       "      <td>...</td>\n",
       "      <td>...</td>\n",
       "      <td>...</td>\n",
       "      <td>...</td>\n",
       "      <td>...</td>\n",
       "      <td>...</td>\n",
       "    </tr>\n",
       "    <tr>\n",
       "      <th>8802</th>\n",
       "      <td>s8803</td>\n",
       "      <td>Movie</td>\n",
       "      <td>Zodiac</td>\n",
       "      <td>David Fincher</td>\n",
       "      <td>Mark Ruffalo, Jake Gyllenhaal, Robert Downey J...</td>\n",
       "      <td>United States</td>\n",
       "      <td>November 20, 2019</td>\n",
       "      <td>2007</td>\n",
       "      <td>R</td>\n",
       "      <td>158 min</td>\n",
       "      <td>Cult Movies, Dramas, Thrillers</td>\n",
       "      <td>A political cartoonist, a crime reporter and a...</td>\n",
       "    </tr>\n",
       "    <tr>\n",
       "      <th>8803</th>\n",
       "      <td>s8804</td>\n",
       "      <td>TV Show</td>\n",
       "      <td>Zombie Dumb</td>\n",
       "      <td>NaN</td>\n",
       "      <td>NaN</td>\n",
       "      <td>NaN</td>\n",
       "      <td>July 1, 2019</td>\n",
       "      <td>2018</td>\n",
       "      <td>TV-Y7</td>\n",
       "      <td>2 Seasons</td>\n",
       "      <td>Kids' TV, Korean TV Shows, TV Comedies</td>\n",
       "      <td>While living alone in a spooky town, a young g...</td>\n",
       "    </tr>\n",
       "    <tr>\n",
       "      <th>8804</th>\n",
       "      <td>s8805</td>\n",
       "      <td>Movie</td>\n",
       "      <td>Zombieland</td>\n",
       "      <td>Ruben Fleischer</td>\n",
       "      <td>Jesse Eisenberg, Woody Harrelson, Emma Stone, ...</td>\n",
       "      <td>United States</td>\n",
       "      <td>November 1, 2019</td>\n",
       "      <td>2009</td>\n",
       "      <td>R</td>\n",
       "      <td>88 min</td>\n",
       "      <td>Comedies, Horror Movies</td>\n",
       "      <td>Looking to survive in a world taken over by zo...</td>\n",
       "    </tr>\n",
       "    <tr>\n",
       "      <th>8805</th>\n",
       "      <td>s8806</td>\n",
       "      <td>Movie</td>\n",
       "      <td>Zoom</td>\n",
       "      <td>Peter Hewitt</td>\n",
       "      <td>Tim Allen, Courteney Cox, Chevy Chase, Kate Ma...</td>\n",
       "      <td>United States</td>\n",
       "      <td>January 11, 2020</td>\n",
       "      <td>2006</td>\n",
       "      <td>PG</td>\n",
       "      <td>88 min</td>\n",
       "      <td>Children &amp; Family Movies, Comedies</td>\n",
       "      <td>Dragged from civilian life, a former superhero...</td>\n",
       "    </tr>\n",
       "    <tr>\n",
       "      <th>8806</th>\n",
       "      <td>s8807</td>\n",
       "      <td>Movie</td>\n",
       "      <td>Zubaan</td>\n",
       "      <td>Mozez Singh</td>\n",
       "      <td>Vicky Kaushal, Sarah-Jane Dias, Raaghav Chanan...</td>\n",
       "      <td>India</td>\n",
       "      <td>March 2, 2019</td>\n",
       "      <td>2015</td>\n",
       "      <td>TV-14</td>\n",
       "      <td>111 min</td>\n",
       "      <td>Dramas, International Movies, Music &amp; Musicals</td>\n",
       "      <td>A scrappy but poor boy worms his way into a ty...</td>\n",
       "    </tr>\n",
       "  </tbody>\n",
       "</table>\n",
       "<p>8807 rows × 12 columns</p>\n",
       "</div>"
      ],
      "text/plain": [
       "     show_id     type                  title         director  \\\n",
       "0         s1    Movie   Dick Johnson Is Dead  Kirsten Johnson   \n",
       "1         s2  TV Show          Blood & Water              NaN   \n",
       "2         s3  TV Show              Ganglands  Julien Leclercq   \n",
       "3         s4  TV Show  Jailbirds New Orleans              NaN   \n",
       "4         s5  TV Show           Kota Factory              NaN   \n",
       "...      ...      ...                    ...              ...   \n",
       "8802   s8803    Movie                 Zodiac    David Fincher   \n",
       "8803   s8804  TV Show            Zombie Dumb              NaN   \n",
       "8804   s8805    Movie             Zombieland  Ruben Fleischer   \n",
       "8805   s8806    Movie                   Zoom     Peter Hewitt   \n",
       "8806   s8807    Movie                 Zubaan      Mozez Singh   \n",
       "\n",
       "                                                   cast        country  \\\n",
       "0                                                   NaN  United States   \n",
       "1     Ama Qamata, Khosi Ngema, Gail Mabalane, Thaban...   South Africa   \n",
       "2     Sami Bouajila, Tracy Gotoas, Samuel Jouy, Nabi...            NaN   \n",
       "3                                                   NaN            NaN   \n",
       "4     Mayur More, Jitendra Kumar, Ranjan Raj, Alam K...          India   \n",
       "...                                                 ...            ...   \n",
       "8802  Mark Ruffalo, Jake Gyllenhaal, Robert Downey J...  United States   \n",
       "8803                                                NaN            NaN   \n",
       "8804  Jesse Eisenberg, Woody Harrelson, Emma Stone, ...  United States   \n",
       "8805  Tim Allen, Courteney Cox, Chevy Chase, Kate Ma...  United States   \n",
       "8806  Vicky Kaushal, Sarah-Jane Dias, Raaghav Chanan...          India   \n",
       "\n",
       "              date_added  release_year rating   duration  \\\n",
       "0     September 25, 2021          2020  PG-13     90 min   \n",
       "1     September 24, 2021          2021  TV-MA  2 Seasons   \n",
       "2     September 24, 2021          2021  TV-MA   1 Season   \n",
       "3     September 24, 2021          2021  TV-MA   1 Season   \n",
       "4     September 24, 2021          2021  TV-MA  2 Seasons   \n",
       "...                  ...           ...    ...        ...   \n",
       "8802   November 20, 2019          2007      R    158 min   \n",
       "8803        July 1, 2019          2018  TV-Y7  2 Seasons   \n",
       "8804    November 1, 2019          2009      R     88 min   \n",
       "8805    January 11, 2020          2006     PG     88 min   \n",
       "8806       March 2, 2019          2015  TV-14    111 min   \n",
       "\n",
       "                                              listed_in  \\\n",
       "0                                         Documentaries   \n",
       "1       International TV Shows, TV Dramas, TV Mysteries   \n",
       "2     Crime TV Shows, International TV Shows, TV Act...   \n",
       "3                                Docuseries, Reality TV   \n",
       "4     International TV Shows, Romantic TV Shows, TV ...   \n",
       "...                                                 ...   \n",
       "8802                     Cult Movies, Dramas, Thrillers   \n",
       "8803             Kids' TV, Korean TV Shows, TV Comedies   \n",
       "8804                            Comedies, Horror Movies   \n",
       "8805                 Children & Family Movies, Comedies   \n",
       "8806     Dramas, International Movies, Music & Musicals   \n",
       "\n",
       "                                            description  \n",
       "0     As her father nears the end of his life, filmm...  \n",
       "1     After crossing paths at a party, a Cape Town t...  \n",
       "2     To protect his family from a powerful drug lor...  \n",
       "3     Feuds, flirtations and toilet talk go down amo...  \n",
       "4     In a city of coaching centers known to train I...  \n",
       "...                                                 ...  \n",
       "8802  A political cartoonist, a crime reporter and a...  \n",
       "8803  While living alone in a spooky town, a young g...  \n",
       "8804  Looking to survive in a world taken over by zo...  \n",
       "8805  Dragged from civilian life, a former superhero...  \n",
       "8806  A scrappy but poor boy worms his way into a ty...  \n",
       "\n",
       "[8807 rows x 12 columns]"
      ]
     },
     "execution_count": 4,
     "metadata": {},
     "output_type": "execute_result"
    }
   ],
   "source": [
    "# Let's get a look of the dataset\n",
    "df"
   ]
  },
  {
   "cell_type": "markdown",
   "id": "25e0bb5e",
   "metadata": {},
   "source": [
    "As we can see, there are multiple rows and columns which would be very handy for our exploratory data analysis in the future, now let's see what is with the *MISSING DATA*"
   ]
  },
  {
   "cell_type": "markdown",
   "id": "547795e7",
   "metadata": {},
   "source": [
    "#### --- MISSING DATA ---"
   ]
  },
  {
   "cell_type": "code",
   "execution_count": 5,
   "id": "a6d7e620",
   "metadata": {},
   "outputs": [
    {
     "name": "stdout",
     "output_type": "stream",
     "text": [
      "<class 'pandas.core.frame.DataFrame'>\n",
      "RangeIndex: 8807 entries, 0 to 8806\n",
      "Data columns (total 12 columns):\n",
      " #   Column        Non-Null Count  Dtype \n",
      "---  ------        --------------  ----- \n",
      " 0   show_id       8807 non-null   object\n",
      " 1   type          8807 non-null   object\n",
      " 2   title         8807 non-null   object\n",
      " 3   director      6173 non-null   object\n",
      " 4   cast          7982 non-null   object\n",
      " 5   country       7976 non-null   object\n",
      " 6   date_added    8797 non-null   object\n",
      " 7   release_year  8807 non-null   int64 \n",
      " 8   rating        8803 non-null   object\n",
      " 9   duration      8804 non-null   object\n",
      " 10  listed_in     8807 non-null   object\n",
      " 11  description   8807 non-null   object\n",
      "dtypes: int64(1), object(11)\n",
      "memory usage: 825.8+ KB\n"
     ]
    }
   ],
   "source": [
    "# First we get the info of the dataframe to see how many and what kind of data we have\n",
    "df.info()"
   ]
  },
  {
   "cell_type": "markdown",
   "id": "3e3f372d",
   "metadata": {},
   "source": [
    "So we have 8807 rows with some missing values as we can see, let's find out how many on each column"
   ]
  },
  {
   "cell_type": "code",
   "execution_count": 6,
   "id": "a50d8c24",
   "metadata": {},
   "outputs": [
    {
     "data": {
      "text/plain": [
       "show_id            0\n",
       "type               0\n",
       "title              0\n",
       "director        2634\n",
       "cast             825\n",
       "country          831\n",
       "date_added        10\n",
       "release_year       0\n",
       "rating             4\n",
       "duration           3\n",
       "listed_in          0\n",
       "description        0\n",
       "dtype: int64"
      ]
     },
     "execution_count": 6,
     "metadata": {},
     "output_type": "execute_result"
    }
   ],
   "source": [
    "df.isna().sum()"
   ]
  },
  {
   "cell_type": "markdown",
   "id": "61116207",
   "metadata": {},
   "source": [
    "So there's how many values are missing for each column, we can see that none of them excedes the 80% of the total (8807), so it's not viable to drop them. \n",
    "The best way to get rid of this missing values will be to fill them with something, maybe with the word `\"Unknown\"`, let's get to it..."
   ]
  },
  {
   "cell_type": "code",
   "execution_count": 7,
   "id": "e9711e53",
   "metadata": {},
   "outputs": [],
   "source": [
    "# Filling the missing values with 'Unknown'\n",
    "df['director'] = df['director'].fillna('Unknown')\n",
    "df['cast'] = df['cast'].fillna('Unknown')\n",
    "df['country'] = df['country'].fillna('Unknown')\n",
    "df['date_added'] = df['date_added'].fillna('Unknown')\n",
    "df['rating'] = df['rating'].fillna('Unknown')\n",
    "df['duration'] = df['duration'].fillna('Unknown')"
   ]
  },
  {
   "cell_type": "markdown",
   "id": "53209abd",
   "metadata": {},
   "source": [
    "Once we've done this, let's see our dataframe now and let's check if there're missing values still"
   ]
  },
  {
   "cell_type": "code",
   "execution_count": 8,
   "id": "aa9e5707",
   "metadata": {},
   "outputs": [
    {
     "data": {
      "text/html": [
       "<div>\n",
       "<style scoped>\n",
       "    .dataframe tbody tr th:only-of-type {\n",
       "        vertical-align: middle;\n",
       "    }\n",
       "\n",
       "    .dataframe tbody tr th {\n",
       "        vertical-align: top;\n",
       "    }\n",
       "\n",
       "    .dataframe thead th {\n",
       "        text-align: right;\n",
       "    }\n",
       "</style>\n",
       "<table border=\"1\" class=\"dataframe\">\n",
       "  <thead>\n",
       "    <tr style=\"text-align: right;\">\n",
       "      <th></th>\n",
       "      <th>show_id</th>\n",
       "      <th>type</th>\n",
       "      <th>title</th>\n",
       "      <th>director</th>\n",
       "      <th>cast</th>\n",
       "      <th>country</th>\n",
       "      <th>date_added</th>\n",
       "      <th>release_year</th>\n",
       "      <th>rating</th>\n",
       "      <th>duration</th>\n",
       "      <th>listed_in</th>\n",
       "      <th>description</th>\n",
       "    </tr>\n",
       "  </thead>\n",
       "  <tbody>\n",
       "    <tr>\n",
       "      <th>0</th>\n",
       "      <td>s1</td>\n",
       "      <td>Movie</td>\n",
       "      <td>Dick Johnson Is Dead</td>\n",
       "      <td>Kirsten Johnson</td>\n",
       "      <td>Unknown</td>\n",
       "      <td>United States</td>\n",
       "      <td>September 25, 2021</td>\n",
       "      <td>2020</td>\n",
       "      <td>PG-13</td>\n",
       "      <td>90 min</td>\n",
       "      <td>Documentaries</td>\n",
       "      <td>As her father nears the end of his life, filmm...</td>\n",
       "    </tr>\n",
       "    <tr>\n",
       "      <th>1</th>\n",
       "      <td>s2</td>\n",
       "      <td>TV Show</td>\n",
       "      <td>Blood &amp; Water</td>\n",
       "      <td>Unknown</td>\n",
       "      <td>Ama Qamata, Khosi Ngema, Gail Mabalane, Thaban...</td>\n",
       "      <td>South Africa</td>\n",
       "      <td>September 24, 2021</td>\n",
       "      <td>2021</td>\n",
       "      <td>TV-MA</td>\n",
       "      <td>2 Seasons</td>\n",
       "      <td>International TV Shows, TV Dramas, TV Mysteries</td>\n",
       "      <td>After crossing paths at a party, a Cape Town t...</td>\n",
       "    </tr>\n",
       "    <tr>\n",
       "      <th>2</th>\n",
       "      <td>s3</td>\n",
       "      <td>TV Show</td>\n",
       "      <td>Ganglands</td>\n",
       "      <td>Julien Leclercq</td>\n",
       "      <td>Sami Bouajila, Tracy Gotoas, Samuel Jouy, Nabi...</td>\n",
       "      <td>Unknown</td>\n",
       "      <td>September 24, 2021</td>\n",
       "      <td>2021</td>\n",
       "      <td>TV-MA</td>\n",
       "      <td>1 Season</td>\n",
       "      <td>Crime TV Shows, International TV Shows, TV Act...</td>\n",
       "      <td>To protect his family from a powerful drug lor...</td>\n",
       "    </tr>\n",
       "    <tr>\n",
       "      <th>3</th>\n",
       "      <td>s4</td>\n",
       "      <td>TV Show</td>\n",
       "      <td>Jailbirds New Orleans</td>\n",
       "      <td>Unknown</td>\n",
       "      <td>Unknown</td>\n",
       "      <td>Unknown</td>\n",
       "      <td>September 24, 2021</td>\n",
       "      <td>2021</td>\n",
       "      <td>TV-MA</td>\n",
       "      <td>1 Season</td>\n",
       "      <td>Docuseries, Reality TV</td>\n",
       "      <td>Feuds, flirtations and toilet talk go down amo...</td>\n",
       "    </tr>\n",
       "    <tr>\n",
       "      <th>4</th>\n",
       "      <td>s5</td>\n",
       "      <td>TV Show</td>\n",
       "      <td>Kota Factory</td>\n",
       "      <td>Unknown</td>\n",
       "      <td>Mayur More, Jitendra Kumar, Ranjan Raj, Alam K...</td>\n",
       "      <td>India</td>\n",
       "      <td>September 24, 2021</td>\n",
       "      <td>2021</td>\n",
       "      <td>TV-MA</td>\n",
       "      <td>2 Seasons</td>\n",
       "      <td>International TV Shows, Romantic TV Shows, TV ...</td>\n",
       "      <td>In a city of coaching centers known to train I...</td>\n",
       "    </tr>\n",
       "    <tr>\n",
       "      <th>...</th>\n",
       "      <td>...</td>\n",
       "      <td>...</td>\n",
       "      <td>...</td>\n",
       "      <td>...</td>\n",
       "      <td>...</td>\n",
       "      <td>...</td>\n",
       "      <td>...</td>\n",
       "      <td>...</td>\n",
       "      <td>...</td>\n",
       "      <td>...</td>\n",
       "      <td>...</td>\n",
       "      <td>...</td>\n",
       "    </tr>\n",
       "    <tr>\n",
       "      <th>8802</th>\n",
       "      <td>s8803</td>\n",
       "      <td>Movie</td>\n",
       "      <td>Zodiac</td>\n",
       "      <td>David Fincher</td>\n",
       "      <td>Mark Ruffalo, Jake Gyllenhaal, Robert Downey J...</td>\n",
       "      <td>United States</td>\n",
       "      <td>November 20, 2019</td>\n",
       "      <td>2007</td>\n",
       "      <td>R</td>\n",
       "      <td>158 min</td>\n",
       "      <td>Cult Movies, Dramas, Thrillers</td>\n",
       "      <td>A political cartoonist, a crime reporter and a...</td>\n",
       "    </tr>\n",
       "    <tr>\n",
       "      <th>8803</th>\n",
       "      <td>s8804</td>\n",
       "      <td>TV Show</td>\n",
       "      <td>Zombie Dumb</td>\n",
       "      <td>Unknown</td>\n",
       "      <td>Unknown</td>\n",
       "      <td>Unknown</td>\n",
       "      <td>July 1, 2019</td>\n",
       "      <td>2018</td>\n",
       "      <td>TV-Y7</td>\n",
       "      <td>2 Seasons</td>\n",
       "      <td>Kids' TV, Korean TV Shows, TV Comedies</td>\n",
       "      <td>While living alone in a spooky town, a young g...</td>\n",
       "    </tr>\n",
       "    <tr>\n",
       "      <th>8804</th>\n",
       "      <td>s8805</td>\n",
       "      <td>Movie</td>\n",
       "      <td>Zombieland</td>\n",
       "      <td>Ruben Fleischer</td>\n",
       "      <td>Jesse Eisenberg, Woody Harrelson, Emma Stone, ...</td>\n",
       "      <td>United States</td>\n",
       "      <td>November 1, 2019</td>\n",
       "      <td>2009</td>\n",
       "      <td>R</td>\n",
       "      <td>88 min</td>\n",
       "      <td>Comedies, Horror Movies</td>\n",
       "      <td>Looking to survive in a world taken over by zo...</td>\n",
       "    </tr>\n",
       "    <tr>\n",
       "      <th>8805</th>\n",
       "      <td>s8806</td>\n",
       "      <td>Movie</td>\n",
       "      <td>Zoom</td>\n",
       "      <td>Peter Hewitt</td>\n",
       "      <td>Tim Allen, Courteney Cox, Chevy Chase, Kate Ma...</td>\n",
       "      <td>United States</td>\n",
       "      <td>January 11, 2020</td>\n",
       "      <td>2006</td>\n",
       "      <td>PG</td>\n",
       "      <td>88 min</td>\n",
       "      <td>Children &amp; Family Movies, Comedies</td>\n",
       "      <td>Dragged from civilian life, a former superhero...</td>\n",
       "    </tr>\n",
       "    <tr>\n",
       "      <th>8806</th>\n",
       "      <td>s8807</td>\n",
       "      <td>Movie</td>\n",
       "      <td>Zubaan</td>\n",
       "      <td>Mozez Singh</td>\n",
       "      <td>Vicky Kaushal, Sarah-Jane Dias, Raaghav Chanan...</td>\n",
       "      <td>India</td>\n",
       "      <td>March 2, 2019</td>\n",
       "      <td>2015</td>\n",
       "      <td>TV-14</td>\n",
       "      <td>111 min</td>\n",
       "      <td>Dramas, International Movies, Music &amp; Musicals</td>\n",
       "      <td>A scrappy but poor boy worms his way into a ty...</td>\n",
       "    </tr>\n",
       "  </tbody>\n",
       "</table>\n",
       "<p>8807 rows × 12 columns</p>\n",
       "</div>"
      ],
      "text/plain": [
       "     show_id     type                  title         director  \\\n",
       "0         s1    Movie   Dick Johnson Is Dead  Kirsten Johnson   \n",
       "1         s2  TV Show          Blood & Water          Unknown   \n",
       "2         s3  TV Show              Ganglands  Julien Leclercq   \n",
       "3         s4  TV Show  Jailbirds New Orleans          Unknown   \n",
       "4         s5  TV Show           Kota Factory          Unknown   \n",
       "...      ...      ...                    ...              ...   \n",
       "8802   s8803    Movie                 Zodiac    David Fincher   \n",
       "8803   s8804  TV Show            Zombie Dumb          Unknown   \n",
       "8804   s8805    Movie             Zombieland  Ruben Fleischer   \n",
       "8805   s8806    Movie                   Zoom     Peter Hewitt   \n",
       "8806   s8807    Movie                 Zubaan      Mozez Singh   \n",
       "\n",
       "                                                   cast        country  \\\n",
       "0                                               Unknown  United States   \n",
       "1     Ama Qamata, Khosi Ngema, Gail Mabalane, Thaban...   South Africa   \n",
       "2     Sami Bouajila, Tracy Gotoas, Samuel Jouy, Nabi...        Unknown   \n",
       "3                                               Unknown        Unknown   \n",
       "4     Mayur More, Jitendra Kumar, Ranjan Raj, Alam K...          India   \n",
       "...                                                 ...            ...   \n",
       "8802  Mark Ruffalo, Jake Gyllenhaal, Robert Downey J...  United States   \n",
       "8803                                            Unknown        Unknown   \n",
       "8804  Jesse Eisenberg, Woody Harrelson, Emma Stone, ...  United States   \n",
       "8805  Tim Allen, Courteney Cox, Chevy Chase, Kate Ma...  United States   \n",
       "8806  Vicky Kaushal, Sarah-Jane Dias, Raaghav Chanan...          India   \n",
       "\n",
       "              date_added  release_year rating   duration  \\\n",
       "0     September 25, 2021          2020  PG-13     90 min   \n",
       "1     September 24, 2021          2021  TV-MA  2 Seasons   \n",
       "2     September 24, 2021          2021  TV-MA   1 Season   \n",
       "3     September 24, 2021          2021  TV-MA   1 Season   \n",
       "4     September 24, 2021          2021  TV-MA  2 Seasons   \n",
       "...                  ...           ...    ...        ...   \n",
       "8802   November 20, 2019          2007      R    158 min   \n",
       "8803        July 1, 2019          2018  TV-Y7  2 Seasons   \n",
       "8804    November 1, 2019          2009      R     88 min   \n",
       "8805    January 11, 2020          2006     PG     88 min   \n",
       "8806       March 2, 2019          2015  TV-14    111 min   \n",
       "\n",
       "                                              listed_in  \\\n",
       "0                                         Documentaries   \n",
       "1       International TV Shows, TV Dramas, TV Mysteries   \n",
       "2     Crime TV Shows, International TV Shows, TV Act...   \n",
       "3                                Docuseries, Reality TV   \n",
       "4     International TV Shows, Romantic TV Shows, TV ...   \n",
       "...                                                 ...   \n",
       "8802                     Cult Movies, Dramas, Thrillers   \n",
       "8803             Kids' TV, Korean TV Shows, TV Comedies   \n",
       "8804                            Comedies, Horror Movies   \n",
       "8805                 Children & Family Movies, Comedies   \n",
       "8806     Dramas, International Movies, Music & Musicals   \n",
       "\n",
       "                                            description  \n",
       "0     As her father nears the end of his life, filmm...  \n",
       "1     After crossing paths at a party, a Cape Town t...  \n",
       "2     To protect his family from a powerful drug lor...  \n",
       "3     Feuds, flirtations and toilet talk go down amo...  \n",
       "4     In a city of coaching centers known to train I...  \n",
       "...                                                 ...  \n",
       "8802  A political cartoonist, a crime reporter and a...  \n",
       "8803  While living alone in a spooky town, a young g...  \n",
       "8804  Looking to survive in a world taken over by zo...  \n",
       "8805  Dragged from civilian life, a former superhero...  \n",
       "8806  A scrappy but poor boy worms his way into a ty...  \n",
       "\n",
       "[8807 rows x 12 columns]"
      ]
     },
     "execution_count": 8,
     "metadata": {},
     "output_type": "execute_result"
    }
   ],
   "source": [
    "df"
   ]
  },
  {
   "cell_type": "code",
   "execution_count": 9,
   "id": "88e55bc2",
   "metadata": {},
   "outputs": [
    {
     "data": {
      "text/plain": [
       "show_id         0\n",
       "type            0\n",
       "title           0\n",
       "director        0\n",
       "cast            0\n",
       "country         0\n",
       "date_added      0\n",
       "release_year    0\n",
       "rating          0\n",
       "duration        0\n",
       "listed_in       0\n",
       "description     0\n",
       "dtype: int64"
      ]
     },
     "execution_count": 9,
     "metadata": {},
     "output_type": "execute_result"
    }
   ],
   "source": [
    "df.isna().sum()"
   ]
  },
  {
   "cell_type": "markdown",
   "id": "309cfd89",
   "metadata": {},
   "source": [
    "Well now that we managed the missing values problem we can get to work with the project itself"
   ]
  },
  {
   "cell_type": "markdown",
   "id": "de05846b",
   "metadata": {},
   "source": [
    "# --- GENRE DISTRIBUTION --- "
   ]
  },
  {
   "cell_type": "markdown",
   "id": "a64f4dec",
   "metadata": {},
   "source": [
    "In this section, we explore how different genres are distributed across Netflix's movies and TV shows. This analysis reveals Netflix's content priorities and provides insights into audience preferences.\n",
    "The visualizations below compare the most popular genres in movies versus TV shows, highlighting significant differences in content strategy between these formats.\n",
    "By understanding these genre patterns, we gain valuable perspective on Netflix's ability to diverse viewer interests."
   ]
  },
  {
   "cell_type": "code",
   "execution_count": 10,
   "id": "dc5cc855",
   "metadata": {},
   "outputs": [],
   "source": [
    "# Filter the DataFrame for movies only\n",
    "movies_df = df[df['type'] == 'Movie'].copy()\n",
    "# Filter the dataframe for tv shows only\n",
    "tv_shows_df = df[df['type'] == 'TV Show'].copy()"
   ]
  },
  {
   "cell_type": "markdown",
   "id": "6dc4bad5",
   "metadata": {},
   "source": [
    "First we're gonna make some functions that will help not only for this section, but for upcoming ones"
   ]
  },
  {
   "cell_type": "code",
   "execution_count": 11,
   "id": "61ff9cd6",
   "metadata": {},
   "outputs": [],
   "source": [
    "def expand_dataframe(df, column):\n",
    "    \"\"\"\n",
    "    This function expands the dataframe in multiple rows given a certain column\n",
    "    Args:\n",
    "        df (pandas.DataFrame): dataset\n",
    "        column (str): name of the column we want to expand\n",
    "    \"\"\"\n",
    "    # Divide the column into multiple rows\n",
    "    df.loc[:, column] = df[column].str.split(\",\")\n",
    "    df_exploded = df.explode(column)\n",
    "    df_exploded[column] = df_exploded[column].str.strip() \n",
    "    \n",
    "    return df_exploded"
   ]
  },
  {
   "cell_type": "markdown",
   "id": "24298600",
   "metadata": {},
   "source": [
    "This function divides a certain column in multiple rows because we need to separate the genres (listed_in) column, which now looks like this"
   ]
  },
  {
   "cell_type": "code",
   "execution_count": 12,
   "id": "599879f7",
   "metadata": {},
   "outputs": [
    {
     "data": {
      "text/plain": [
       "0                                           Documentaries\n",
       "1         International TV Shows, TV Dramas, TV Mysteries\n",
       "2       Crime TV Shows, International TV Shows, TV Act...\n",
       "3                                  Docuseries, Reality TV\n",
       "4       International TV Shows, Romantic TV Shows, TV ...\n",
       "                              ...                        \n",
       "8802                       Cult Movies, Dramas, Thrillers\n",
       "8803               Kids' TV, Korean TV Shows, TV Comedies\n",
       "8804                              Comedies, Horror Movies\n",
       "8805                   Children & Family Movies, Comedies\n",
       "8806       Dramas, International Movies, Music & Musicals\n",
       "Name: listed_in, Length: 8807, dtype: object"
      ]
     },
     "execution_count": 12,
     "metadata": {},
     "output_type": "execute_result"
    }
   ],
   "source": [
    "df[\"listed_in\"]"
   ]
  },
  {
   "cell_type": "markdown",
   "id": "801dd93f",
   "metadata": {},
   "source": [
    "As we can see, there are multiple values in a single column, so we have to expand it"
   ]
  },
  {
   "cell_type": "code",
   "execution_count": 13,
   "id": "27491583",
   "metadata": {},
   "outputs": [],
   "source": [
    "def get_count(df, column):\n",
    "    \"\"\"\n",
    "    This function count the amount of values that are on the dataframe given a certain column\n",
    "    Args:\n",
    "        df (pandas.DataFrame): dataset\n",
    "        column (str): name of the column that we want to count values\n",
    "    \"\"\"\n",
    "    # Expand the dataframe\n",
    "    new_df = expand_dataframe(df, column)\n",
    "    # Count the number of ocurrences of each genre\n",
    "    df_genre_counts = new_df[column].value_counts()\n",
    "    \n",
    "    return df_genre_counts"
   ]
  },
  {
   "cell_type": "markdown",
   "id": "23f8f36e",
   "metadata": {},
   "source": [
    "And this function uses the last one to expand i case we need it and then counts the different values in each column, something we need to do in this case"
   ]
  },
  {
   "cell_type": "code",
   "execution_count": 14,
   "id": "2bd0f286",
   "metadata": {},
   "outputs": [],
   "source": [
    "movies_genre_counts = get_count(movies_df, \"listed_in\")\n",
    "tv_shows_genre_counts = get_count(tv_shows_df, \"listed_in\")"
   ]
  },
  {
   "cell_type": "markdown",
   "id": "2eadfc3a",
   "metadata": {},
   "source": [
    "Now, lets take a look at this new variables"
   ]
  },
  {
   "cell_type": "code",
   "execution_count": 15,
   "id": "68bdf1a4",
   "metadata": {},
   "outputs": [
    {
     "data": {
      "text/plain": [
       "listed_in\n",
       "International Movies        2752\n",
       "Dramas                      2427\n",
       "Comedies                    1674\n",
       "Documentaries                869\n",
       "Action & Adventure           859\n",
       "Independent Movies           756\n",
       "Children & Family Movies     641\n",
       "Romantic Movies              616\n",
       "Thrillers                    577\n",
       "Music & Musicals             375\n",
       "Horror Movies                357\n",
       "Stand-Up Comedy              343\n",
       "Sci-Fi & Fantasy             243\n",
       "Sports Movies                219\n",
       "Classic Movies               116\n",
       "LGBTQ Movies                 102\n",
       "Anime Features                71\n",
       "Cult Movies                   71\n",
       "Faith & Spirituality          65\n",
       "Movies                        57\n",
       "Name: count, dtype: int64"
      ]
     },
     "execution_count": 15,
     "metadata": {},
     "output_type": "execute_result"
    }
   ],
   "source": [
    "movies_genre_counts"
   ]
  },
  {
   "cell_type": "code",
   "execution_count": 16,
   "id": "36e4885e",
   "metadata": {},
   "outputs": [
    {
     "data": {
      "text/plain": [
       "listed_in\n",
       "International TV Shows          1351\n",
       "TV Dramas                        763\n",
       "TV Comedies                      581\n",
       "Crime TV Shows                   470\n",
       "Kids' TV                         451\n",
       "Docuseries                       395\n",
       "Romantic TV Shows                370\n",
       "Reality TV                       255\n",
       "British TV Shows                 253\n",
       "Anime Series                     176\n",
       "Spanish-Language TV Shows        174\n",
       "TV Action & Adventure            168\n",
       "Korean TV Shows                  151\n",
       "TV Mysteries                      98\n",
       "Science & Nature TV               92\n",
       "TV Sci-Fi & Fantasy               84\n",
       "TV Horror                         75\n",
       "Teen TV Shows                     69\n",
       "TV Thrillers                      57\n",
       "Stand-Up Comedy & Talk Shows      56\n",
       "Classic & Cult TV                 28\n",
       "TV Shows                          16\n",
       "Name: count, dtype: int64"
      ]
     },
     "execution_count": 16,
     "metadata": {},
     "output_type": "execute_result"
    }
   ],
   "source": [
    "tv_shows_genre_counts"
   ]
  },
  {
   "cell_type": "markdown",
   "id": "09935e86",
   "metadata": {},
   "source": [
    "Ok so now we have all the data we need to make a plot of each distribution of genres.  \n",
    "We're going to make a barplot, but first we're going to make a function that helps us both now and for future barplots."
   ]
  },
  {
   "cell_type": "code",
   "execution_count": 17,
   "id": "08340fb4",
   "metadata": {},
   "outputs": [],
   "source": [
    "def make_barplot(file, plot_title, xlabel, ylabel, ax, kind, need_custom_axes = False):\n",
    "    \"\"\"\n",
    "    This function makes a barplot usign different parameters to fit it to our needs\n",
    "    Args:\n",
    "        file (pandas.DataFrame): File we want to plot\n",
    "        plot_title (str): Title of the barplot\n",
    "        xlabel (str): Label to identify the x axis\n",
    "        ylabel (str): Label to identify the y axis\n",
    "        ax (matplotlib.axes.Axes): Where we're gonna plot the data\n",
    "        kind (str): Kind of barplot (\"bar\" or \"barh\")\n",
    "        need_custom_axes (bool, optional): This variable help us to set a custom x or y label. Defaults to False.\n",
    "    \"\"\"\n",
    "    if not need_custom_axes:\n",
    "        file.plot(kind=kind , ax=ax, color=\"#7F1A1A\", legend = False)\n",
    "    else:\n",
    "        file.plot(kind = kind, x = (file.columns.to_list())[0], y = (file.columns.to_list())[1], ax = ax, color = \"#7F1A1A\", legend = False)\n",
    "    if kind == \"barh\":\n",
    "       ax.invert_yaxis()\n",
    "       ax.grid(True, axis='x', color='white', alpha=0.4)\n",
    "    else:\n",
    "       ax.grid(True, axis='y', color='white', alpha=0.4)\n",
    "    ax.set_facecolor(\"#15130d\")\n",
    "    ax.set_title(plot_title, color = \"white\", fontsize = 20)\n",
    "    ax.set_xlabel(xlabel, color = \"white\", fontsize = 12)\n",
    "    ax.set_ylabel(ylabel, color = \"white\", fontsize = 12)\n",
    "    ax.tick_params(colors = \"white\")\n",
    "    for spine in ax.spines.values():\n",
    "        spine.set_color(\"white\")"
   ]
  },
  {
   "cell_type": "markdown",
   "id": "ace897d6",
   "metadata": {},
   "source": [
    "Now, we are ready to plot"
   ]
  },
  {
   "cell_type": "code",
   "execution_count": 19,
   "id": "2ff3e061",
   "metadata": {},
   "outputs": [
    {
     "data": {
      "image/png": "[encoded data removed]",
      "text/plain": [
       "<Figure size 2000x700 with 2 Axes>"
      ]
     },
     "metadata": {},
     "output_type": "display_data"
    }
   ],
   "source": [
    "# Plotting the data\n",
    "fig, (ax1, ax2) = plt.subplots(nrows = 1,\n",
    "                                ncols = 2,\n",
    "                                figsize = (20, 7),\n",
    "                                facecolor = \"#000000\")\n",
    "\n",
    "make_barplot(movies_genre_counts,\"Distribution of Genres in Movies\", \"Genres\", \"Number of Movies\", ax1, \"bar\")\n",
    "make_barplot(tv_shows_genre_counts, \"Distribution of Genres in TV Shows\", \"Genres\", \"Number of TV Shows\", ax2, \"bar\")\n",
    "\n",
    "plt.tight_layout()\n",
    "plt.subplots_adjust(wspace=0.2)"
   ]
  },
  {
   "cell_type": "markdown",
   "id": "36e2645c",
   "metadata": {},
   "source": [
    "### --- INSIGHTS ---"
   ]
  },
  {
   "cell_type": "markdown",
   "id": "d05e36b5",
   "metadata": {},
   "source": [
    "* ##### Movies\n",
    "\n",
    "The most dominant genre in Netflix’s movies are `“International Movies”` and `“Dramas”`, this indicates us that people from different parts of the world use Netflix and people tend to be pretty emotional when it comes to choose a movie to watch.\n",
    "However,  `“Comedy”` and `“Documentaries”` also show strong presence, indicating diverse viewer interests beyond mainstream content.\n",
    "Talking about low presence we have `“Faith & Spirituality”` and `“Cult Movies”` suggesting either limited production in these categories or lower viewer demand on Netflix."
   ]
  },
  {
   "cell_type": "markdown",
   "id": "f9737938",
   "metadata": {},
   "source": [
    "* ##### TV Shows\n",
    "\n",
    "Netflix TV shows are heavily concentrated in genres like `“International”`, `“Dramas”`, and `“Comedies”`, indicating a focus on globally appealing content (the most popular movies genres are similar). Meanwhile, genres like `“Science & Nature”` or `“Classic & Cult”` are less common, pointing to niche audience with limited but specific content offerings."
   ]
  },
  {
   "cell_type": "markdown",
   "id": "3744e6d1",
   "metadata": {},
   "source": [
    "--------------------"
   ]
  },
  {
   "cell_type": "markdown",
   "id": "48884bf9",
   "metadata": {},
   "source": [
    "*Netflix's* content reflects a strategy focused on appealing genres with international and emotional resonance (`\"International Movies\"`, `\"Dramas\"`, and `\"Comedies\"` showing strong presence in both movies and TV), while also accommodating diverse, but less dominant viewer interests with genres like `\"Documentaries\"` in movies. The lower representation of niche categories suggests a prioritization of higher-demand content and potentially limited production in those areas across both movies and TV shows."
   ]
  },
  {
   "cell_type": "markdown",
   "id": "a952f93b",
   "metadata": {},
   "source": [
    "-----"
   ]
  },
  {
   "cell_type": "markdown",
   "id": "77ee32db",
   "metadata": {},
   "source": [
    "# --- Addition of Content Over Time ---"
   ]
  },
  {
   "cell_type": "markdown",
   "id": "3eb137c1",
   "metadata": {},
   "source": [
    "This section explores how Netflix has expanded its content library over time. By analyzing when movies and TV shows were added to the platform, we can identify key growth periods and strategic shifts in Netflix's content acquisition approach.  \n",
    "The analysis tracks the yearly addition patterns for both movies and TV shows, revealing important trends in how Netflix has built its catalog. "
   ]
  },
  {
   "cell_type": "code",
   "execution_count": 20,
   "id": "bd74609b",
   "metadata": {},
   "outputs": [
    {
     "data": {
      "text/plain": [
       "0       September 25, 2021\n",
       "1       September 24, 2021\n",
       "2       September 24, 2021\n",
       "3       September 24, 2021\n",
       "4       September 24, 2021\n",
       "               ...        \n",
       "8802     November 20, 2019\n",
       "8803          July 1, 2019\n",
       "8804      November 1, 2019\n",
       "8805      January 11, 2020\n",
       "8806         March 2, 2019\n",
       "Name: date_added, Length: 8807, dtype: object"
      ]
     },
     "execution_count": 20,
     "metadata": {},
     "output_type": "execute_result"
    }
   ],
   "source": [
    "# Let's take a look at the \"date_added\" column \n",
    "df.date_added"
   ]
  },
  {
   "cell_type": "markdown",
   "id": "1072e636",
   "metadata": {},
   "source": [
    "We are in the same situation as before, where we have to take just the years in this case."
   ]
  },
  {
   "cell_type": "code",
   "execution_count": 22,
   "id": "d0670323",
   "metadata": {},
   "outputs": [],
   "source": [
    "# Divide into movies and tv shows\n",
    "movies_df = df[df[\"type\"] == \"Movie\"].copy()\n",
    "tv_shows_df = df[df[\"type\"] == \"TV Show\"].copy()\n",
    "\n",
    "# Getting the years of addition of each movie\n",
    "movies_df[\"date_added\"] = movies_df[\"date_added\"].str.split(\", \")\n",
    "year_movies = movies_df[\"date_added\"].str[1] # 1 because it's the second element\n",
    "    \n",
    "# Getting the years of addition of each tv show\n",
    "tv_shows_df[\"date_added\"] = tv_shows_df[\"date_added\"].str.split(\", \")\n",
    "year_tv_shows = tv_shows_df[\"date_added\"].str[1] # 1 because it's the second element"
   ]
  },
  {
   "cell_type": "code",
   "execution_count": 23,
   "id": "a2cf786f",
   "metadata": {},
   "outputs": [
    {
     "data": {
      "text/plain": [
       "(0       2021\n",
       " 6       2021\n",
       " 7       2021\n",
       " 9       2021\n",
       " 12      2021\n",
       "         ... \n",
       " 8801    2016\n",
       " 8802    2019\n",
       " 8804    2019\n",
       " 8805    2020\n",
       " 8806    2019\n",
       " Name: date_added, Length: 6131, dtype: object,\n",
       " 1       2021\n",
       " 2       2021\n",
       " 3       2021\n",
       " 4       2021\n",
       " 5       2021\n",
       "         ... \n",
       " 8795    2018\n",
       " 8796    2017\n",
       " 8797    2018\n",
       " 8800    2016\n",
       " 8803    2019\n",
       " Name: date_added, Length: 2676, dtype: object)"
      ]
     },
     "execution_count": 23,
     "metadata": {},
     "output_type": "execute_result"
    }
   ],
   "source": [
    "# Let's take a look at the different years\n",
    "year_movies, year_tv_shows"
   ]
  },
  {
   "cell_type": "code",
   "execution_count": 24,
   "id": "ee7e340d",
   "metadata": {},
   "outputs": [],
   "source": [
    "# Now, let'c count the numbeer of ocurrences of each type (movie or tv show)\n",
    "num_movies = year_movies.value_counts()\n",
    "num_tv_shows = year_tv_shows.value_counts()"
   ]
  },
  {
   "cell_type": "code",
   "execution_count": 25,
   "id": "482fed36",
   "metadata": {},
   "outputs": [
    {
     "data": {
      "text/plain": [
       "date_added\n",
       "2019    1424\n",
       "2020    1284\n",
       "2018    1237\n",
       "2021     993\n",
       "2017     839\n",
       "2016     253\n",
       "2015      56\n",
       "2014      19\n",
       "2011      13\n",
       "2013       6\n",
       "2012       3\n",
       "2009       2\n",
       "2008       1\n",
       "2010       1\n",
       "Name: count, dtype: int64"
      ]
     },
     "execution_count": 25,
     "metadata": {},
     "output_type": "execute_result"
    }
   ],
   "source": [
    "num_movies"
   ]
  },
  {
   "cell_type": "code",
   "execution_count": 26,
   "id": "92761670",
   "metadata": {},
   "outputs": [
    {
     "data": {
      "text/plain": [
       "date_added\n",
       "2020    595\n",
       "2019    592\n",
       "2021    505\n",
       "2018    412\n",
       "2017    349\n",
       "2016    176\n",
       "2015     26\n",
       "2014      5\n",
       "2013      5\n",
       "2008      1\n",
       "Name: count, dtype: int64"
      ]
     },
     "execution_count": 26,
     "metadata": {},
     "output_type": "execute_result"
    }
   ],
   "source": [
    "num_tv_shows"
   ]
  },
  {
   "cell_type": "markdown",
   "id": "b65dc497",
   "metadata": {},
   "source": [
    "Perfect! Now that we have this, we have all the data we need to make a plot, maybe a distribution one!"
   ]
  },
  {
   "cell_type": "markdown",
   "id": "560ef5a9",
   "metadata": {},
   "source": []
  }
 ],
 "metadata": {
  "kernelspec": {
   "display_name": "Python 3",
   "language": "python",
   "name": "python3"
  },
  "language_info": {
   "codemirror_mode": {
    "name": "ipython",
    "version": 3
   },
   "file_extension": ".py",
   "mimetype": "text/x-python",
   "name": "python",
   "nbconvert_exporter": "python",
   "pygments_lexer": "ipython3",
   "version": "3.12.9"
  }
 },
 "nbformat": 4,
 "nbformat_minor": 5
}
