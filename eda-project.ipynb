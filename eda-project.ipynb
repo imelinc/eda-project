{
 "cells": [
  {
   "cell_type": "markdown",
   "id": "cf30ec97",
   "metadata": {},
   "source": [
    "# Exploratory Data Analysis 1 Project"
   ]
  },
  {
   "cell_type": "markdown",
   "id": "6b73e0ee",
   "metadata": {},
   "source": [
    "### Turning Data Into Insights"
   ]
  },
  {
   "cell_type": "markdown",
   "id": "42cf6e54",
   "metadata": {},
   "source": [
    "This project inspects Netflix's library to expose patterns in content type, genres, countries, and release trends—transforming raw data into meaningful information through exploratory data analysis."
   ]
  },
  {
   "cell_type": "markdown",
   "id": "307db2be",
   "metadata": {},
   "source": [
    "##### This Project Will Cover"
   ]
  },
  {
   "cell_type": "markdown",
   "id": "be76da77",
   "metadata": {},
   "source": [
    "* What genres are most common in movies vs TV shows\n",
    "* How has the addition of new content evolved over time\n",
    "* Which countries dominate certain genres\n",
    "* Patterns in ratings based of the content type\n",
    "* “The global reach of Netflix”\n",
    "* “Netflix through the years”\n",
    "* “Is Netflix family-friendly?”"
   ]
  },
  {
   "cell_type": "markdown",
   "id": "4aacb5fb",
   "metadata": {},
   "source": [
    "This analysis explores the rich landscape of content available on Netflix, one of the world's leading streaming entertainment services. The dataset contains detailed information about movies and TV shows in the Netflix catalog, allowing us to uncover patterns and insights about content distribution, genres, ratings, and more."
   ]
  },
  {
   "cell_type": "markdown",
   "id": "01577d10",
   "metadata": {},
   "source": [
    "##### Dataset Overview\n",
    "> The analysis uses a comprehensive dataset of Netflix movies and TV shows that includes:\n",
    "\n",
    "* Content types (Movies vs. TV Shows)\n",
    "* Titles and descriptions\n",
    "* Release years\n",
    "* Content ratings (TV-MA, PG-13, etc.)\n",
    "* Duration (minutes for movies, seasons for TV shows)\n",
    "* Genres/categories\n",
    "* Cast and director information\n",
    "* Country of origin\n",
    "* Date added to Netflix"
   ]
  },
  {
   "cell_type": "markdown",
   "id": "f8b8abdc",
   "metadata": {},
   "source": [
    "##### Project Objectives\n",
    "*This exploratory data analysis aims to:*\n",
    "\n",
    "1. *Understand content distribution:* Analyze the balance between movies and TV shows, and how this has evolved over time\n",
    "2. *Explore content ratings:* Investigate the distribution of ratings across different genres and content types\n",
    "3. *Analyze genre preferences:* Identify the most common genres and their characteristics\n",
    "4. *Examine regional content strategies:* Explore how content varies by country of origin\n",
    "5. *Investigate temporal patterns:* Analyze when content is added to Netflix and release year trends"
   ]
  },
  {
   "cell_type": "markdown",
   "id": "1f413094",
   "metadata": {},
   "source": [
    "*GitHub:* https://github.com/imelinc"
   ]
  },
  {
   "cell_type": "markdown",
   "id": "739ade5c",
   "metadata": {},
   "source": [
    "#### --- IMPORTING LIBRARIES ---"
   ]
  },
  {
   "cell_type": "code",
   "execution_count": 1,
   "id": "ce4a3507",
   "metadata": {},
   "outputs": [],
   "source": [
    "import pandas as pd\n",
    "import matplotlib.pyplot as plt"
   ]
  },
  {
   "cell_type": "code",
   "execution_count": null,
   "id": "0dd7cc77",
   "metadata": {},
   "outputs": [],
   "source": []
  }
 ],
 "metadata": {
  "kernelspec": {
   "display_name": "base",
   "language": "python",
   "name": "python3"
  },
  "language_info": {
   "codemirror_mode": {
    "name": "ipython",
    "version": 3
   },
   "file_extension": ".py",
   "mimetype": "text/x-python",
   "name": "python",
   "nbconvert_exporter": "python",
   "pygments_lexer": "ipython3",
   "version": "3.12.9"
  }
 },
 "nbformat": 4,
 "nbformat_minor": 5
}
