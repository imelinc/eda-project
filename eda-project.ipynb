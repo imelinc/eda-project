{
 "cells": [
  {
   "cell_type": "markdown",
   "id": "cf30ec97",
   "metadata": {},
   "source": [
    "# Exploratory Data Analisys Project"
   ]
  },
  {
   "cell_type": "markdown",
   "id": "6b73e0ee",
   "metadata": {},
   "source": []
  }
 ],
 "metadata": {
  "language_info": {
   "name": "python"
  }
 },
 "nbformat": 4,
 "nbformat_minor": 5
}
